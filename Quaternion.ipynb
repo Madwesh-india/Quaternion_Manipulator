{
 "cells": [
  {
   "cell_type": "code",
   "execution_count": 1,
   "id": "b7ec86ce",
   "metadata": {},
   "outputs": [],
   "source": [
    "import numpy as np\n",
    "import matplotlib.pyplot as plt"
   ]
  },
  {
   "cell_type": "code",
   "execution_count": 2,
   "id": "323d5c70",
   "metadata": {},
   "outputs": [],
   "source": [
    "class quaternion:\n",
    "    def __init__(self, q0, q1, q2, q3):\n",
    "        self.q0 = q0\n",
    "        self.q = np.array([\n",
    "            q1,\n",
    "            q2,\n",
    "            q3\n",
    "        ])\n",
    "        \n",
    "    def __add__(self, other):\n",
    "        new_q0 = self.q0 + other.q0\n",
    "        new_q = self.q + other.q\n",
    "        \n",
    "        return quaternion(new_q0, *new_q)\n",
    "    \n",
    "    def __sub__(self, other):\n",
    "        new_q0 = self.q0 - other.q0\n",
    "        new_q = self.q - other.q\n",
    "        \n",
    "        return quaternion(new_q0, *new_q)\n",
    "    \n",
    "    def __mul__(self, other):\n",
    "        if type(other) == type(self):\n",
    "            new_q0 = self.q0*other.q0 - np.inner(self.q, other.q)\n",
    "            new_q = self.q0*other.q + other.q0*self.q + np.cross(self.q, other.q)\n",
    "        else:\n",
    "            new_q0 = self.q0*other\n",
    "            new_q = self.q*other\n",
    "        \n",
    "        return quaternion(new_q0, *new_q)\n",
    "    \n",
    "    def __truediv__(self, other):\n",
    "        return quaternion(self.q0/other, *(-self.q/other))\n",
    "    \n",
    "    def __repr__(self):\n",
    "        return f\"{self.q0} + {self.q[0]}i + {self.q[1]}j + {self.q[2]}k\"\n",
    "    \n",
    "    def conjugate(self):\n",
    "        return quaternion(self.q0, *(-self.q))\n",
    "    \n",
    "    def norm(self):\n",
    "        return np.sqrt(self.q0*self.q0 + np.square(self.q).sum())\n",
    "    \n",
    "    def inv(self):\n",
    "        return self.conjugate()/np.square(self.norm())"
   ]
  },
  {
   "cell_type": "markdown",
   "id": "8fb9394f",
   "metadata": {},
   "source": [
    "#Efficient, only end effector pos\n",
    "\n",
    "class Rotation:\n",
    "    def __init__(self,in_place=False, theta=None, u=None):\n",
    "        self.in_place = in_place\n",
    "        \n",
    "        if self.in_place:\n",
    "            self.q = quaternion(np.cos(theta/2), *(np.sin(theta/2)*u))\n",
    "            self.q_conjugate = self.q.conjugate()\n",
    "            \n",
    "        \n",
    "    def __call__(self, v, theta=None, u=None):\n",
    "        if not self.in_place:\n",
    "            q = quaternion(np.cos(theta/2), *(np.sin(theta/2)*u))\n",
    "            return q*v*q.conjugate()\n",
    "        \n",
    "        else:\n",
    "            return self.q*v*self.q_conjugate\n",
    "        \n",
    "class joint_link:\n",
    "    def __init__(self, theta, d, a, alpha, joint=\"r\"):\n",
    "        self.theta = theta\n",
    "        self.d = d\n",
    "        self.a = a\n",
    "        self.alpha = alpha\n",
    "        \n",
    "        self.joint = joint\n",
    "        \n",
    "        self.link_len = quaternion(0, self.a, 0, 0)\n",
    "        self.x_unit = np.array([1, 0, 0])\n",
    "        self.y_unit = np.array([0, 1, 0])\n",
    "        self.z_unit = np.array([0, 0, 1])\n",
    "        \n",
    "        self.R_alpha = Rotation(True, self.alpha, self.x_unit)\n",
    "        \n",
    "        if self.joint == \"r\":\n",
    "            self.off_set = quaternion(0, 0, 0, self.d)\n",
    "        else:\n",
    "            self.R_theta = Rotation(True, self.theta, self.z_unit)\n",
    "            \n",
    "        self.R = Rotation(False)\n",
    "        \n",
    "    def __call__(self, variable=0., x=quaternion(0, 0, 0, 0)):\n",
    "        x = self.R_alpha(x)\n",
    "        x = x + self.link_len\n",
    "        \n",
    "        if self.joint == \"r\":\n",
    "            x = x + self.off_set\n",
    "            x = self.R(x, self.theta + variable, np.array([0, 0, 1]))\n",
    "            \n",
    "        elif self.joint == \"p\":\n",
    "            x = x + quaternion(0, 0, 0, self.d + variable)\n",
    "            x = self.R_theta(x)\n",
    "        \n",
    "        return x"
   ]
  },
  {
   "cell_type": "code",
   "execution_count": 3,
   "id": "cdc6f705",
   "metadata": {},
   "outputs": [],
   "source": [
    "#Gives values for animation\n",
    "\n",
    "def Rotation(v, theta, u):\n",
    "    q = quaternion(np.cos(theta/2), *(np.sin(theta/2)*u))\n",
    "    return q*v*q.conjugate()\n",
    "\n",
    "\n",
    "class joint_link:\n",
    "    def __init__(self, theta, d, a, alpha, joint=\"r\"):\n",
    "        self.theta = theta\n",
    "        self.d = d\n",
    "        self.a = a\n",
    "        self.alpha = alpha\n",
    "        \n",
    "        self.joint = joint\n",
    "        \n",
    "    def __call__(self, variable=0., link_pos=quaternion(0, 0, 0, 0), z=np.array([0, 0, 1]), x=np.array([1, 0, 0])):\n",
    "        z_q = quaternion(0, *z)\n",
    "        x_q = quaternion(0, *x)\n",
    "\n",
    "        if self.joint == \"r\":\n",
    "            x_q = Rotation(x_q, self.theta + variable, z_q.q)\n",
    "            link_pos = link_pos + z_q*self.d\n",
    "            \n",
    "        elif self.joint == \"p\":\n",
    "            x_q = Rotation(x_q, self.theta, z_q.q)\n",
    "            link_pos = link_pos + z_q*(self.d + variable)\n",
    "\n",
    "        link_pos = link_pos + x_q*self.a\n",
    "        z_q = Rotation(z_q, self.alpha, x_q.q)\n",
    "\n",
    "        return link_pos, z_q.q, x_q.q"
   ]
  },
  {
   "cell_type": "code",
   "execution_count": 6,
   "id": "63807308",
   "metadata": {},
   "outputs": [
    {
     "data": {
      "image/png": "[encoded data removed]",
      "text/plain": [
       "<Figure size 640x480 with 1 Axes>"
      ]
     },
     "metadata": {},
     "output_type": "display_data"
    }
   ],
   "source": [
    "theta = np.pi/2\n",
    "d = 0\n",
    "a = 1\n",
    "alpha = 0\n",
    "\n",
    "points = []\n",
    "\n",
    "l1 = joint_link(0, 1, 0, -np.pi/2)\n",
    "l2 = joint_link(0, 0, 5, 0)\n",
    "l3 = joint_link(0, 0, 10, 0)\n",
    "\n",
    "for theta1 in np.arange(-np.pi, np.pi, np.pi/8):\n",
    "    for theta2 in np.arange(-np.pi, np.pi, np.pi/16):\n",
    "        for theta3 in np.arange(-np.pi, np.pi, np.pi/16):\n",
    "            link_pos = l1(theta1)\n",
    "            link_pos = l2(theta2, *link_pos)\n",
    "            link_pos = l3(theta3, *link_pos)\n",
    "            points.append(link_pos[0].q)\n",
    "\n",
    "points = np.array(points)\n",
    "\n",
    "ax = plt.axes(projection ='3d')\n",
    "ax.plot3D(points[:, 0], points[:, 1], points[:, 2])\n",
    "plt.show()"
   ]
  },
  {
   "cell_type": "code",
   "execution_count": 9,
   "id": "1aec327a",
   "metadata": {},
   "outputs": [],
   "source": [
    "def cubic(tg, qs, qg, t):\n",
    "    a2 = 3*(qg - qs)/tg**2\n",
    "    a3 = -2*(qg - qs)/tg**3\n",
    "    return qg if t>=tg else qs if t<0 else qs + a2*t**2 + a3*t**3"
   ]
  },
  {
   "cell_type": "code",
   "execution_count": 14,
   "id": "8b9cdc03",
   "metadata": {},
   "outputs": [
    {
     "data": {
      "application/vnd.jupyter.widget-view+json": {
       "model_id": "9d0562d689934a94b5e072d876ccb917",
       "version_major": 2,
       "version_minor": 0
      },
      "text/plain": [
       "interactive(children=(Play(value=0, description='t', max=600), Output()), _dom_classes=('widget-interact',))"
      ]
     },
     "metadata": {},
     "output_type": "display_data"
    }
   ],
   "source": [
    "import ipywidgets as widgets\n",
    "import numpy as np\n",
    "import matplotlib.pyplot as plt\n",
    "\n",
    "l1 = joint_link(0, 3, 0, np.pi/2)\n",
    "l2 = joint_link(0, 0, 10, 0)\n",
    "l3 = joint_link(np.pi/2, 0, 0, np.pi/2)\n",
    "\n",
    "l4 = joint_link(0, 1+10, 0, -np.pi/2)\n",
    "l5 = joint_link(-np.pi/2, 0, 1, -np.pi/2)\n",
    "l6 = joint_link(0, 0, 1, 0)\n",
    "\n",
    "def theta (t):\n",
    "    t=t/10\n",
    "    fig = plt.figure(figsize=(10,15))\n",
    "    ax = plt.axes(projection ='3d')\n",
    "    ax.set_xlim(-20, 20)\n",
    "    ax.set_ylim(-20, 20)\n",
    "    ax.set_zlim(-20, 20)\n",
    "    \n",
    "    pos = [[0, 0, 0]]\n",
    "    # print(cubic(10, 0, np.pi, t))\n",
    "    link_end, z, x = l1(cubic(10, 0, np.pi, t) if t<10 else 0)\n",
    "    pos.append(link_end.q)\n",
    "\n",
    "    link_end, z, x = l2(cubic(10, 0, np.pi, t-10) if t<20 else 0, link_end, z, x)\n",
    "    pos.append(link_end.q)\n",
    "\n",
    "    link_end, z, x = l3(cubic(10, 0, np.pi, t-20) if t<30 else 0, link_end, z, x)\n",
    "    pos.append(link_end.q)\n",
    "\n",
    "    link_end, z, x = l4(cubic(10, 0, np.pi, t-30) if t<40 else 0, link_end, z, x)\n",
    "    pos.append(link_end.q)\n",
    "\n",
    "    link_end, z, x = l5(cubic(10, 0, np.pi, t-40) if t<50 else 0, link_end, z, x)\n",
    "    pos.append(link_end.q)\n",
    "\n",
    "    link_end, z, x = l6(cubic(10, 0, np.pi, t-50) if t<60 else 0, link_end, z, x)\n",
    "    pos.append(link_end.q)\n",
    "\n",
    "    pos = np.array(pos)\n",
    "    ax.plot3D(pos[:, 0], pos[:, 1], pos[:, 2],'red')\n",
    "    plt.show()\n",
    "    \n",
    "widgets.interact(theta , t= widgets.Play(min=0,max =600, step=1));"
   ]
  },
  {
   "cell_type": "code",
   "execution_count": null,
   "id": "8bfd3ac3",
   "metadata": {},
   "outputs": [],
   "source": [
    "\n",
    "l1 = joint_link(0, 1, 0, np.pi/2)\n",
    "l2 = joint_link(0, 0, 10, 0)\n",
    "l3 = joint_link(0, 0, 10, 0)\n",
    "\n",
    "pos = []\n",
    "\n",
    "link_pos = l3(0)\n",
    "pos.append(link_pos.q)\n",
    "\n",
    "link_pos = l2(0, link_pos)\n",
    "pos.append(link_pos.q)\n",
    "\n",
    "link_pos = l1(np.pi/2, link_pos)\n",
    "pos.append(link_pos.q)\n",
    "\n",
    "pos = np.array(pos)"
   ]
  },
  {
   "cell_type": "code",
   "execution_count": null,
   "id": "cd7fd96e",
   "metadata": {},
   "outputs": [
    {
     "data": {
      "text/plain": [
       "array([[1.00000000e+01, 0.00000000e+00, 0.00000000e+00],\n",
       "       [2.00000000e+01, 0.00000000e+00, 0.00000000e+00],\n",
       "       [3.55271368e-15, 2.00000000e+01, 1.00000000e+00]])"
      ]
     },
     "execution_count": 51,
     "metadata": {},
     "output_type": "execute_result"
    }
   ],
   "source": [
    "pos"
   ]
  },
  {
   "cell_type": "code",
   "execution_count": null,
   "id": "10e6b67c",
   "metadata": {},
   "outputs": [
    {
     "data": {
      "text/plain": [
       "array([ 10.,  20., -20.])"
      ]
     },
     "execution_count": 52,
     "metadata": {},
     "output_type": "execute_result"
    }
   ],
   "source": []
  },
  {
   "cell_type": "code",
   "execution_count": null,
   "id": "00ea681e",
   "metadata": {},
   "outputs": [],
   "source": []
  }
 ],
 "metadata": {
  "kernelspec": {
   "display_name": "Python 3 (ipykernel)",
   "language": "python",
   "name": "python3"
  },
  "language_info": {
   "codemirror_mode": {
    "name": "ipython",
    "version": 3
   },
   "file_extension": ".py",
   "mimetype": "text/x-python",
   "name": "python",
   "nbconvert_exporter": "python",
   "pygments_lexer": "ipython3",
   "version": "3.8.16"
  }
 },
 "nbformat": 4,
 "nbformat_minor": 5
}
